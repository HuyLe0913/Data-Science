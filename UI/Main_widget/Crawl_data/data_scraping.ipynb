{
 "cells": [
  {
   "cell_type": "code",
   "execution_count": 1,
   "metadata": {},
   "outputs": [],
   "source": [
    "import requests\n",
    "import pandas as pd\n",
    "from selenium import webdriver\n",
    "from selenium.webdriver.common.by import By\n",
    "from selenium.webdriver.edge.service import Service\n",
    "from selenium.webdriver.support.ui import WebDriverWait\n",
    "from selenium.webdriver.support import expected_conditions as EC\n",
    "import time"
   ]
  },
  {
   "cell_type": "markdown",
   "metadata": {},
   "source": [
    "#### API calls (WORLD BANK)"
   ]
  },
  {
   "cell_type": "code",
   "execution_count": 2,
   "metadata": {},
   "outputs": [],
   "source": [
    "def getData(url,name):\n",
    "    response = requests.get(url)\n",
    "    data = response.json()\n",
    "    data_list = []\n",
    "    for entry in data[1]:\n",
    "        if entry[\"value\"] is not None:\n",
    "            data_list.append({\n",
    "                \"Country\": entry[\"country\"][\"value\"],\n",
    "                \"Year\": entry[\"date\"],\n",
    "                name: entry[\"value\"]\n",
    "            })\n",
    "    data_df = pd.DataFrame(data_list)\n",
    "    print(data_df)\n",
    "    data_df.to_csv(f\"Data\\\\{name}.csv\", index=False)\n",
    "    "
   ]
  },
  {
   "cell_type": "code",
   "execution_count": 3,
   "metadata": {},
   "outputs": [],
   "source": [
    "def getUrl(code,num_page = 20000):\n",
    "    return f\"http://api.worldbank.org/v2/country/all/indicator/{code}?format=json&per_page={num_page}\""
   ]
  },
  {
   "cell_type": "code",
   "execution_count": 4,
   "metadata": {},
   "outputs": [],
   "source": [
    "population_url = getUrl(\"SP.POP.TOTL\")\n",
    "male_ratio_url = getUrl(\"SP.POP.TOTL.MA.ZS\")\n",
    "urban_population = getUrl(\"SP.URB.TOTL.IN.ZS\")\n",
    "gdp_url = getUrl(\"NY.GDP.PCAP.CD\")\n",
    "area_url = getUrl(\"AG.SRF.TOTL.K2\")\n",
    "old_url = getUrl(\"SP.POP.DPND.OL\")\n",
    "young_url = getUrl(\"SP.POP.DPND.YG\")\n",
    "life_url = getUrl(\"SP.DYN.LE00.IN\")"
   ]
  },
  {
   "cell_type": "code",
   "execution_count": 5,
   "metadata": {},
   "outputs": [
    {
     "name": "stdout",
     "output_type": "stream",
     "text": [
      "                           Country  Year  Population\n",
      "0      Africa Eastern and Southern  2023   739108306\n",
      "1      Africa Eastern and Southern  2022   720859132\n",
      "2      Africa Eastern and Southern  2021   702977106\n",
      "3      Africa Eastern and Southern  2020   685112979\n",
      "4      Africa Eastern and Southern  2019   667242986\n",
      "...                            ...   ...         ...\n",
      "16925                     Zimbabwe  1964     4310332\n",
      "16926                     Zimbabwe  1963     4177931\n",
      "16927                     Zimbabwe  1962     4049778\n",
      "16928                     Zimbabwe  1961     3925952\n",
      "16929                     Zimbabwe  1960     3806310\n",
      "\n",
      "[16930 rows x 3 columns]\n"
     ]
    }
   ],
   "source": [
    "getData(population_url,\"Population\")"
   ]
  },
  {
   "cell_type": "code",
   "execution_count": 6,
   "metadata": {},
   "outputs": [
    {
     "name": "stdout",
     "output_type": "stream",
     "text": [
      "                           Country  Year  Male Population Ratio\n",
      "0      Africa Eastern and Southern  2023              49.535786\n",
      "1      Africa Eastern and Southern  2022              49.527652\n",
      "2      Africa Eastern and Southern  2021              49.521084\n",
      "3      Africa Eastern and Southern  2020              49.513455\n",
      "4      Africa Eastern and Southern  2019              49.504007\n",
      "...                            ...   ...                    ...\n",
      "16955                     Zimbabwe  1964              49.407888\n",
      "16956                     Zimbabwe  1963              49.428126\n",
      "16957                     Zimbabwe  1962              49.449155\n",
      "16958                     Zimbabwe  1961              49.471720\n",
      "16959                     Zimbabwe  1960              49.496126\n",
      "\n",
      "[16960 rows x 3 columns]\n"
     ]
    }
   ],
   "source": [
    "getData(male_ratio_url,\"Male Population Ratio\")"
   ]
  },
  {
   "cell_type": "code",
   "execution_count": 7,
   "metadata": {},
   "outputs": [
    {
     "name": "stdout",
     "output_type": "stream",
     "text": [
      "                           Country  Year  Urban Population Ratio\n",
      "0      Africa Eastern and Southern  2023               38.335337\n",
      "1      Africa Eastern and Southern  2022               37.825158\n",
      "2      Africa Eastern and Southern  2021               37.323699\n",
      "3      Africa Eastern and Southern  2020               36.828302\n",
      "4      Africa Eastern and Southern  2019               36.336259\n",
      "...                            ...   ...                     ...\n",
      "16827                     Zimbabwe  1964               14.092000\n",
      "16828                     Zimbabwe  1963               13.578000\n",
      "16829                     Zimbabwe  1962               13.082000\n",
      "16830                     Zimbabwe  1961               12.821000\n",
      "16831                     Zimbabwe  1960               12.608000\n",
      "\n",
      "[16832 rows x 3 columns]\n"
     ]
    }
   ],
   "source": [
    "getData(urban_population,\"Urban Population Ratio\")"
   ]
  },
  {
   "cell_type": "code",
   "execution_count": 8,
   "metadata": {},
   "outputs": [
    {
     "name": "stdout",
     "output_type": "stream",
     "text": [
      "                           Country  Year  GDP_per_Capita\n",
      "0      Africa Eastern and Southern  2023     1672.505957\n",
      "1      Africa Eastern and Southern  2022     1642.432039\n",
      "2      Africa Eastern and Southern  2021     1545.956697\n",
      "3      Africa Eastern and Southern  2020     1356.088871\n",
      "4      Africa Eastern and Southern  2019     1508.486886\n",
      "...                            ...   ...             ...\n",
      "13974                     Zimbabwe  1964      282.376856\n",
      "13975                     Zimbabwe  1963      277.532515\n",
      "13976                     Zimbabwe  1962      275.966139\n",
      "13977                     Zimbabwe  1961      279.332656\n",
      "13978                     Zimbabwe  1960      276.643363\n",
      "\n",
      "[13979 rows x 3 columns]\n"
     ]
    }
   ],
   "source": [
    "getData(gdp_url,\"GDP_per_Capita\")"
   ]
  },
  {
   "cell_type": "code",
   "execution_count": 9,
   "metadata": {},
   "outputs": [
    {
     "name": "stdout",
     "output_type": "stream",
     "text": [
      "                           Country  Year  Total Area (sq km)\n",
      "0      Africa Eastern and Southern  2021        1.516201e+07\n",
      "1      Africa Eastern and Southern  2020        1.516201e+07\n",
      "2      Africa Eastern and Southern  2019        1.516205e+07\n",
      "3      Africa Eastern and Southern  2018        1.516204e+07\n",
      "4      Africa Eastern and Southern  2017        1.516204e+07\n",
      "...                            ...   ...                 ...\n",
      "15927                     Zimbabwe  1965        3.907600e+05\n",
      "15928                     Zimbabwe  1964        3.907600e+05\n",
      "15929                     Zimbabwe  1963        3.907600e+05\n",
      "15930                     Zimbabwe  1962        3.907600e+05\n",
      "15931                     Zimbabwe  1961        3.907600e+05\n",
      "\n",
      "[15932 rows x 3 columns]\n"
     ]
    }
   ],
   "source": [
    "getData(area_url,\"Total Area (sq km)\")"
   ]
  },
  {
   "cell_type": "code",
   "execution_count": 10,
   "metadata": {},
   "outputs": [
    {
     "name": "stdout",
     "output_type": "stream",
     "text": [
      "                           Country  Year  Retirement Age Dependency Ratio\n",
      "0      Africa Eastern and Southern  2023                         5.641678\n",
      "1      Africa Eastern and Southern  2022                         5.662353\n",
      "2      Africa Eastern and Southern  2021                         5.706199\n",
      "3      Africa Eastern and Southern  2020                         5.733111\n",
      "4      Africa Eastern and Southern  2019                         5.718424\n",
      "...                            ...   ...                              ...\n",
      "16925                     Zimbabwe  1964                         6.855007\n",
      "16926                     Zimbabwe  1963                         6.858850\n",
      "16927                     Zimbabwe  1962                         6.824991\n",
      "16928                     Zimbabwe  1961                         6.793782\n",
      "16929                     Zimbabwe  1960                         6.759052\n",
      "\n",
      "[16930 rows x 3 columns]\n"
     ]
    }
   ],
   "source": [
    "getData(old_url,\"Retirement Age Dependency Ratio\")"
   ]
  },
  {
   "cell_type": "code",
   "execution_count": 11,
   "metadata": {},
   "outputs": [
    {
     "name": "stdout",
     "output_type": "stream",
     "text": [
      "                           Country  Year  Young Age Dependency Ratio\n",
      "0      Africa Eastern and Southern  2023                   72.978971\n",
      "1      Africa Eastern and Southern  2022                   73.799990\n",
      "2      Africa Eastern and Southern  2021                   74.565149\n",
      "3      Africa Eastern and Southern  2020                   75.310862\n",
      "4      Africa Eastern and Southern  2019                   76.028564\n",
      "...                            ...   ...                         ...\n",
      "16925                     Zimbabwe  1964                  101.575828\n",
      "16926                     Zimbabwe  1963                  100.673025\n",
      "16927                     Zimbabwe  1962                   98.816809\n",
      "16928                     Zimbabwe  1961                   97.259899\n",
      "16929                     Zimbabwe  1960                   95.879938\n",
      "\n",
      "[16930 rows x 3 columns]\n"
     ]
    }
   ],
   "source": [
    "getData(young_url,\"Young Age Dependency Ratio\")"
   ]
  },
  {
   "cell_type": "code",
   "execution_count": 12,
   "metadata": {},
   "outputs": [
    {
     "name": "stdout",
     "output_type": "stream",
     "text": [
      "                           Country  Year  Life Expectancy\n",
      "0      Africa Eastern and Southern  2022        62.899031\n",
      "1      Africa Eastern and Southern  2021        62.454590\n",
      "2      Africa Eastern and Southern  2020        63.313860\n",
      "3      Africa Eastern and Southern  2019        63.755678\n",
      "4      Africa Eastern and Southern  2018        63.365863\n",
      "...                            ...   ...              ...\n",
      "16119                     Zimbabwe  1964        54.994000\n",
      "16120                     Zimbabwe  1963        54.549000\n",
      "16121                     Zimbabwe  1962        54.071000\n",
      "16122                     Zimbabwe  1961        53.619000\n",
      "16123                     Zimbabwe  1960        53.235000\n",
      "\n",
      "[16124 rows x 3 columns]\n"
     ]
    }
   ],
   "source": [
    "getData(life_url,\"Life Expectancy\")"
   ]
  },
  {
   "cell_type": "markdown",
   "metadata": {},
   "source": [
    "#### API Calls (WHO)"
   ]
  },
  {
   "cell_type": "code",
   "execution_count": 13,
   "metadata": {},
   "outputs": [],
   "source": [
    "who_url = \"https://ghoapi.azureedge.net/api/Indicator\"\n",
    "response = requests.get(who_url)\n",
    "\n",
    "indicators_df = pd.DataFrame(response.json()['value'])\n"
   ]
  },
  {
   "cell_type": "code",
   "execution_count": 14,
   "metadata": {},
   "outputs": [
    {
     "name": "stdout",
     "output_type": "stream",
     "text": [
      "            IndicatorCode                                      IndicatorName  \\\n",
      "206           NCD_BMI_18C  Prevalence of underweight among adults, BMI < ...   \n",
      "207           NCD_BMI_25C  Prevalence of overweight among adults, BMI &Gr...   \n",
      "208           NCD_BMI_30A  Prevalence of obesity among adults, BMI &Great...   \n",
      "212        NCD_BMI_PLUS1C  Prevalence of overweight among children and ad...   \n",
      "222           NCD_BMI_18A  Prevalence of underweight among adults, BMI < ...   \n",
      "223           NCD_BMI_30C  Prevalence of obesity among adults, BMI &Great...   \n",
      "224       NCD_BMI_MINUS2A  Prevalence of thinness among children and adol...   \n",
      "225       NCD_BMI_MINUS2C  Prevalence of thinness among children and adol...   \n",
      "267           NCD_BMI_25A  Prevalence of overweight among adults, BMI &Gr...   \n",
      "287        NCD_BMI_PLUS2A  Prevalence of obesity among children and adole...   \n",
      "405          NCD_BMI_MEAN       Mean BMI (kg/m²) (age-standardized estimate)   \n",
      "406         NCD_BMI_MEANC             Mean BMI (kg/m&#xb2;) (crude estimate)   \n",
      "407        NCD_BMI_PLUS1A  Prevalence of overweight among children and ad...   \n",
      "408        NCD_BMI_PLUS2C  Prevalence of obesity among children and adole...   \n",
      "729               obesewm  Obesity prevalence in non-pregnant women aged ...   \n",
      "2195  PRISON_F1_BMI25_TOT  In-prison people who have BMI >= 25 (number of...   \n",
      "2546              bmi30wm  Obesity prevalence in non-pregnant women aged ...   \n",
      "2817  PRISON_F1_BMI30_TOT  In-prison people who have BMI >= 30 (number of...   \n",
      "\n",
      "     Language  \n",
      "206        EN  \n",
      "207        EN  \n",
      "208        EN  \n",
      "212        EN  \n",
      "222        EN  \n",
      "223        EN  \n",
      "224        EN  \n",
      "225        EN  \n",
      "267        EN  \n",
      "287        EN  \n",
      "405        EN  \n",
      "406        EN  \n",
      "407        EN  \n",
      "408        EN  \n",
      "729        EN  \n",
      "2195       EN  \n",
      "2546       EN  \n",
      "2817       EN  \n"
     ]
    }
   ],
   "source": [
    "bmi_indicators_df = indicators_df[indicators_df['IndicatorName'].str.contains('bmi', case=False)]\n",
    "print(bmi_indicators_df)"
   ]
  },
  {
   "cell_type": "code",
   "execution_count": 15,
   "metadata": {},
   "outputs": [
    {
     "name": "stdout",
     "output_type": "stream",
     "text": [
      "Data for NCD_BMI_MEAN:\n",
      "            Id IndicatorCode SpatialDimType SpatialDim TimeDimType  \\\n",
      "0          664  NCD_BMI_MEAN        COUNTRY        IRQ        YEAR   \n",
      "1          729  NCD_BMI_MEAN        COUNTRY        LAO        YEAR   \n",
      "2         1303  NCD_BMI_MEAN         REGION        AMR        YEAR   \n",
      "3         1899  NCD_BMI_MEAN        COUNTRY        ARG        YEAR   \n",
      "4         2929  NCD_BMI_MEAN        COUNTRY        SOM        YEAR   \n",
      "...        ...           ...            ...        ...         ...   \n",
      "25818  9435695  NCD_BMI_MEAN        COUNTRY        ARG        YEAR   \n",
      "25819  9435727  NCD_BMI_MEAN        COUNTRY        GRC        YEAR   \n",
      "25820  9436293  NCD_BMI_MEAN        COUNTRY        COG        YEAR   \n",
      "25821  9436890  NCD_BMI_MEAN        COUNTRY        ARM        YEAR   \n",
      "25822  9437164  NCD_BMI_MEAN        COUNTRY        PAK        YEAR   \n",
      "\n",
      "      ParentLocationCode         ParentLocation Dim1Type  TimeDim      Dim1  \\\n",
      "0                    EMR  Eastern Mediterranean      SEX     1983  SEX_BTSX   \n",
      "1                    WPR        Western Pacific      SEX     2002   SEX_MLE   \n",
      "2                   None                   None      SEX     1997  SEX_FMLE   \n",
      "3                    AMR               Americas      SEX     2012  SEX_FMLE   \n",
      "4                    EMR  Eastern Mediterranean      SEX     1988  SEX_FMLE   \n",
      "...                  ...                    ...      ...      ...       ...   \n",
      "25818                AMR               Americas      SEX     1988  SEX_FMLE   \n",
      "25819                EUR                 Europe      SEX     2014  SEX_BTSX   \n",
      "25820                AFR                 Africa      SEX     1992  SEX_BTSX   \n",
      "25821                EUR                 Europe      SEX     2003  SEX_BTSX   \n",
      "25822                EMR  Eastern Mediterranean      SEX     2008  SEX_FMLE   \n",
      "\n",
      "       ... DataSourceDim             Value NumericValue   Low  High Comments  \\\n",
      "0      ...          None  25.4 [24.1-26.6]         25.4  24.1  26.6     None   \n",
      "1      ...          None  21.1 [20.1-22.1]         21.1  20.1  22.1     None   \n",
      "2      ...          None  26.1 [25.9-26.3]         26.1  25.9  26.3     None   \n",
      "3      ...          None  27.1 [26.3-28.0]         27.1  26.3  28.0     None   \n",
      "4      ...          None  21.4 [18.4-24.3]         21.4  18.4  24.3     None   \n",
      "...    ...           ...               ...          ...   ...   ...      ...   \n",
      "25818  ...          None  24.8 [23.8-25.8]         24.8  23.8  25.8     None   \n",
      "25819  ...          None  27.1 [26.3-27.9]         27.1  26.3  27.9     None   \n",
      "25820  ...          None  21.4 [20.8-22.0]         21.4  20.8  22.0     None   \n",
      "25821  ...          None  25.8 [25.3-26.2]         25.8  25.3  26.2     None   \n",
      "25822  ...          None  23.8 [23.4-24.3]         23.8  23.4  24.3     None   \n",
      "\n",
      "                            Date  TimeDimensionValue  \\\n",
      "0      2017-09-27T15:20:14+02:00                1983   \n",
      "1      2017-09-27T15:30:08+02:00                2002   \n",
      "2      2017-09-27T14:14:20+02:00                1997   \n",
      "3      2017-09-27T15:23:15+02:00                2012   \n",
      "4      2017-09-27T15:26:56+02:00                1988   \n",
      "...                          ...                 ...   \n",
      "25818  2017-09-27T15:23:14+02:00                1988   \n",
      "25819  2017-09-27T15:19:55+02:00                2014   \n",
      "25820  2017-09-27T15:19:11+02:00                1992   \n",
      "25821  2017-09-27T15:18:30+02:00                2003   \n",
      "25822  2017-09-27T15:26:19+02:00                2008   \n",
      "\n",
      "              TimeDimensionBegin           TimeDimensionEnd  \n",
      "0      1983-01-01T00:00:00+01:00  1983-12-31T00:00:00+01:00  \n",
      "1      2002-01-01T00:00:00+01:00  2002-12-31T00:00:00+01:00  \n",
      "2      1997-01-01T00:00:00+01:00  1997-12-31T00:00:00+01:00  \n",
      "3      2012-01-01T00:00:00+01:00  2012-12-31T00:00:00+01:00  \n",
      "4      1988-01-01T00:00:00+01:00  1988-12-31T00:00:00+01:00  \n",
      "...                          ...                        ...  \n",
      "25818  1988-01-01T00:00:00+01:00  1988-12-31T00:00:00+01:00  \n",
      "25819  2014-01-01T00:00:00+01:00  2014-12-31T00:00:00+01:00  \n",
      "25820  1992-01-01T00:00:00+01:00  1992-12-31T00:00:00+01:00  \n",
      "25821  2003-01-01T00:00:00+01:00  2003-12-31T00:00:00+01:00  \n",
      "25822  2008-01-01T00:00:00+01:00  2008-12-31T00:00:00+01:00  \n",
      "\n",
      "[25823 rows x 25 columns]\n"
     ]
    }
   ],
   "source": [
    "bmi_indicator_code = 'NCD_BMI_MEAN'\n",
    "bmi_url = f\"https://ghoapi.azureedge.net/api/{bmi_indicator_code}\"\n",
    "response = requests.get(bmi_url)\n",
    "data = response.json()\n",
    "bmi_data_df = pd.DataFrame(data['value'])\n",
    "print(\"Data for NCD_BMI_MEAN:\")\n",
    "print(bmi_data_df)\n",
    "bmi_data_df.to_csv(\"Data\\\\bmi_data.csv\")"
   ]
  },
  {
   "cell_type": "markdown",
   "metadata": {},
   "source": [
    "#### Scrape using Selenium"
   ]
  },
  {
   "cell_type": "code",
   "execution_count": 16,
   "metadata": {},
   "outputs": [],
   "source": [
    "webdriver_path = r\"edgedriver_win64\\\\msedgedriver.exe\"  # replace with actual path\n",
    "service = Service(webdriver_path)\n",
    "options = webdriver.EdgeOptions()\n",
    "driver = webdriver.Edge(service=service, options=options)"
   ]
  },
  {
   "cell_type": "code",
   "execution_count": 17,
   "metadata": {},
   "outputs": [
    {
     "name": "stdout",
     "output_type": "stream",
     "text": [
      "                            Country ISO3 Code\n",
      "0                       Afghanistan  AFG  004\n",
      "1                           Albania  ALB  008\n",
      "2                           Algeria  DZA  012\n",
      "3                    American Samoa  ASM  016\n",
      "4                           Andorra  AND  020\n",
      "..                              ...  ...  ...\n",
      "259                     Yemen, Rep.  YEM  887\n",
      "260                      Yugoslavia  SER  891\n",
      "261  Yugoslavia, FR (Serbia/Montene  YUG  890\n",
      "262                          Zambia  ZMB  894\n",
      "263                        Zimbabwe  ZWE  716\n",
      "\n",
      "[264 rows x 3 columns]\n"
     ]
    }
   ],
   "source": [
    "country_code_url = \"https://wits.worldbank.org/wits/wits/witshelp/content/codes/country_codes.htm\"\n",
    "driver.get(country_code_url)\n",
    "time.sleep(5)\n",
    "WebDriverWait(driver, 10).until(EC.presence_of_element_located((By.CSS_SELECTOR, 'table.wt1')))\n",
    "\n",
    "table = driver.find_element(By.CSS_SELECTOR, 'table.wt1')\n",
    "\n",
    "rows = table.find_elements(By.TAG_NAME, 'tr')\n",
    "data = []\n",
    "for row in rows[2:]:\n",
    "    cols = [col.text for col in row.find_elements(By.TAG_NAME, 'td')]\n",
    "    if cols:  # Check if cols is not empty\n",
    "        data.append(cols)\n",
    "df = pd.DataFrame(data, columns=[\"Country\",\"ISO3\",\"Code\"])\n",
    "print(df)\n",
    "df.to_csv(\"Data\\\\country_codes.csv\", index=False)"
   ]
  },
  {
   "cell_type": "code",
   "execution_count": 18,
   "metadata": {},
   "outputs": [
    {
     "name": "stdout",
     "output_type": "stream",
     "text": [
      "                             Country/area                              2024\n",
      "0                             Afghanistan         Central and Southern Asia\n",
      "1                           Aland Islands       Europe and Northern America\n",
      "2                                 Albania       Europe and Northern America\n",
      "3                                 Algeria  Northern Africa and Western Asia\n",
      "4                          American Samoa                           Oceania\n",
      "..                                    ...                               ...\n",
      "243                                Zambia                Sub-Saharan Africa\n",
      "244                              Zimbabwe                Sub-Saharan Africa\n",
      "245                                 Other                                  \n",
      "246                Svalbard and Jan Mayen       Europe and Northern America\n",
      "247  United States Minor Outlying Islands                           Oceania\n",
      "\n",
      "[248 rows x 2 columns]\n"
     ]
    }
   ],
   "source": [
    "sdg_url = \"https://ourworldindata.org/grapher/world-regions-sdg-united-nations?tab=table\"\n",
    "driver.get(sdg_url)\n",
    "time.sleep(5)\n",
    "table = driver.find_element(By.CLASS_NAME, 'table-wrapper')\n",
    "headers = [header.text for header in table.find_elements(By.TAG_NAME, 'th')]\n",
    "\n",
    "rows = table.find_elements(By.TAG_NAME, 'tr')\n",
    "data = []\n",
    "for row in rows[1:]:\n",
    "    cols = [col.text for col in row.find_elements(By.TAG_NAME, 'td')]\n",
    "    data.append(cols)\n",
    "\n",
    "df = pd.DataFrame(data, columns=headers)\n",
    "print(df)\n",
    "df.to_csv(\"Data\\\\world_regions_sdg.csv\", index=False)\n"
   ]
  },
  {
   "cell_type": "code",
   "execution_count": 19,
   "metadata": {},
   "outputs": [
    {
     "ename": "MaxRetryError",
     "evalue": "HTTPConnectionPool(host='localhost', port=51997): Max retries exceeded with url: /session/48e8694ca2a7f39c1a53470fd7cd8045/element/f.E102CB4B01DAEFBD957B7A7097E5A9FD.d.3F7529A90645FB8AC3997982D0192F85.e.9589/text (Caused by NewConnectionError('<urllib3.connection.HTTPConnection object at 0x00000155C936BF10>: Failed to establish a new connection: [WinError 10061] No connection could be made because the target machine actively refused it'))",
     "output_type": "error",
     "traceback": [
      "\u001b[1;31m---------------------------------------------------------------------------\u001b[0m",
      "\u001b[1;31mConnectionRefusedError\u001b[0m                    Traceback (most recent call last)",
      "File \u001b[1;32md:\\Anaconda\\Lib\\site-packages\\urllib3\\connection.py:174\u001b[0m, in \u001b[0;36mHTTPConnection._new_conn\u001b[1;34m(self)\u001b[0m\n\u001b[0;32m    173\u001b[0m \u001b[38;5;28;01mtry\u001b[39;00m:\n\u001b[1;32m--> 174\u001b[0m     conn \u001b[38;5;241m=\u001b[39m connection\u001b[38;5;241m.\u001b[39mcreate_connection(\n\u001b[0;32m    175\u001b[0m         (\u001b[38;5;28mself\u001b[39m\u001b[38;5;241m.\u001b[39m_dns_host, \u001b[38;5;28mself\u001b[39m\u001b[38;5;241m.\u001b[39mport), \u001b[38;5;28mself\u001b[39m\u001b[38;5;241m.\u001b[39mtimeout, \u001b[38;5;241m*\u001b[39m\u001b[38;5;241m*\u001b[39mextra_kw\n\u001b[0;32m    176\u001b[0m     )\n\u001b[0;32m    178\u001b[0m \u001b[38;5;28;01mexcept\u001b[39;00m SocketTimeout:\n",
      "File \u001b[1;32md:\\Anaconda\\Lib\\site-packages\\urllib3\\util\\connection.py:95\u001b[0m, in \u001b[0;36mcreate_connection\u001b[1;34m(address, timeout, source_address, socket_options)\u001b[0m\n\u001b[0;32m     94\u001b[0m \u001b[38;5;28;01mif\u001b[39;00m err \u001b[38;5;129;01mis\u001b[39;00m \u001b[38;5;129;01mnot\u001b[39;00m \u001b[38;5;28;01mNone\u001b[39;00m:\n\u001b[1;32m---> 95\u001b[0m     \u001b[38;5;28;01mraise\u001b[39;00m err\n\u001b[0;32m     97\u001b[0m \u001b[38;5;28;01mraise\u001b[39;00m socket\u001b[38;5;241m.\u001b[39merror(\u001b[38;5;124m\"\u001b[39m\u001b[38;5;124mgetaddrinfo returns an empty list\u001b[39m\u001b[38;5;124m\"\u001b[39m)\n",
      "File \u001b[1;32md:\\Anaconda\\Lib\\site-packages\\urllib3\\util\\connection.py:85\u001b[0m, in \u001b[0;36mcreate_connection\u001b[1;34m(address, timeout, source_address, socket_options)\u001b[0m\n\u001b[0;32m     84\u001b[0m     sock\u001b[38;5;241m.\u001b[39mbind(source_address)\n\u001b[1;32m---> 85\u001b[0m sock\u001b[38;5;241m.\u001b[39mconnect(sa)\n\u001b[0;32m     86\u001b[0m \u001b[38;5;28;01mreturn\u001b[39;00m sock\n",
      "\u001b[1;31mConnectionRefusedError\u001b[0m: [WinError 10061] No connection could be made because the target machine actively refused it",
      "\nDuring handling of the above exception, another exception occurred:\n",
      "\u001b[1;31mNewConnectionError\u001b[0m                        Traceback (most recent call last)",
      "File \u001b[1;32md:\\Anaconda\\Lib\\site-packages\\urllib3\\connectionpool.py:714\u001b[0m, in \u001b[0;36mHTTPConnectionPool.urlopen\u001b[1;34m(self, method, url, body, headers, retries, redirect, assert_same_host, timeout, pool_timeout, release_conn, chunked, body_pos, **response_kw)\u001b[0m\n\u001b[0;32m    713\u001b[0m \u001b[38;5;66;03m# Make the request on the httplib connection object.\u001b[39;00m\n\u001b[1;32m--> 714\u001b[0m httplib_response \u001b[38;5;241m=\u001b[39m \u001b[38;5;28mself\u001b[39m\u001b[38;5;241m.\u001b[39m_make_request(\n\u001b[0;32m    715\u001b[0m     conn,\n\u001b[0;32m    716\u001b[0m     method,\n\u001b[0;32m    717\u001b[0m     url,\n\u001b[0;32m    718\u001b[0m     timeout\u001b[38;5;241m=\u001b[39mtimeout_obj,\n\u001b[0;32m    719\u001b[0m     body\u001b[38;5;241m=\u001b[39mbody,\n\u001b[0;32m    720\u001b[0m     headers\u001b[38;5;241m=\u001b[39mheaders,\n\u001b[0;32m    721\u001b[0m     chunked\u001b[38;5;241m=\u001b[39mchunked,\n\u001b[0;32m    722\u001b[0m )\n\u001b[0;32m    724\u001b[0m \u001b[38;5;66;03m# If we're going to release the connection in ``finally:``, then\u001b[39;00m\n\u001b[0;32m    725\u001b[0m \u001b[38;5;66;03m# the response doesn't need to know about the connection. Otherwise\u001b[39;00m\n\u001b[0;32m    726\u001b[0m \u001b[38;5;66;03m# it will also try to release it and we'll have a double-release\u001b[39;00m\n\u001b[0;32m    727\u001b[0m \u001b[38;5;66;03m# mess.\u001b[39;00m\n",
      "File \u001b[1;32md:\\Anaconda\\Lib\\site-packages\\urllib3\\connectionpool.py:415\u001b[0m, in \u001b[0;36mHTTPConnectionPool._make_request\u001b[1;34m(self, conn, method, url, timeout, chunked, **httplib_request_kw)\u001b[0m\n\u001b[0;32m    414\u001b[0m     \u001b[38;5;28;01melse\u001b[39;00m:\n\u001b[1;32m--> 415\u001b[0m         conn\u001b[38;5;241m.\u001b[39mrequest(method, url, \u001b[38;5;241m*\u001b[39m\u001b[38;5;241m*\u001b[39mhttplib_request_kw)\n\u001b[0;32m    417\u001b[0m \u001b[38;5;66;03m# We are swallowing BrokenPipeError (errno.EPIPE) since the server is\u001b[39;00m\n\u001b[0;32m    418\u001b[0m \u001b[38;5;66;03m# legitimately able to close the connection after sending a valid response.\u001b[39;00m\n\u001b[0;32m    419\u001b[0m \u001b[38;5;66;03m# With this behaviour, the received response is still readable.\u001b[39;00m\n",
      "File \u001b[1;32md:\\Anaconda\\Lib\\site-packages\\urllib3\\connection.py:244\u001b[0m, in \u001b[0;36mHTTPConnection.request\u001b[1;34m(self, method, url, body, headers)\u001b[0m\n\u001b[0;32m    243\u001b[0m     headers[\u001b[38;5;124m\"\u001b[39m\u001b[38;5;124mUser-Agent\u001b[39m\u001b[38;5;124m\"\u001b[39m] \u001b[38;5;241m=\u001b[39m _get_default_user_agent()\n\u001b[1;32m--> 244\u001b[0m \u001b[38;5;28msuper\u001b[39m(HTTPConnection, \u001b[38;5;28mself\u001b[39m)\u001b[38;5;241m.\u001b[39mrequest(method, url, body\u001b[38;5;241m=\u001b[39mbody, headers\u001b[38;5;241m=\u001b[39mheaders)\n",
      "File \u001b[1;32md:\\Anaconda\\Lib\\http\\client.py:1286\u001b[0m, in \u001b[0;36mHTTPConnection.request\u001b[1;34m(self, method, url, body, headers, encode_chunked)\u001b[0m\n\u001b[0;32m   1285\u001b[0m \u001b[38;5;250m\u001b[39m\u001b[38;5;124;03m\"\"\"Send a complete request to the server.\"\"\"\u001b[39;00m\n\u001b[1;32m-> 1286\u001b[0m \u001b[38;5;28mself\u001b[39m\u001b[38;5;241m.\u001b[39m_send_request(method, url, body, headers, encode_chunked)\n",
      "File \u001b[1;32md:\\Anaconda\\Lib\\http\\client.py:1332\u001b[0m, in \u001b[0;36mHTTPConnection._send_request\u001b[1;34m(self, method, url, body, headers, encode_chunked)\u001b[0m\n\u001b[0;32m   1331\u001b[0m     body \u001b[38;5;241m=\u001b[39m _encode(body, \u001b[38;5;124m'\u001b[39m\u001b[38;5;124mbody\u001b[39m\u001b[38;5;124m'\u001b[39m)\n\u001b[1;32m-> 1332\u001b[0m \u001b[38;5;28mself\u001b[39m\u001b[38;5;241m.\u001b[39mendheaders(body, encode_chunked\u001b[38;5;241m=\u001b[39mencode_chunked)\n",
      "File \u001b[1;32md:\\Anaconda\\Lib\\http\\client.py:1281\u001b[0m, in \u001b[0;36mHTTPConnection.endheaders\u001b[1;34m(self, message_body, encode_chunked)\u001b[0m\n\u001b[0;32m   1280\u001b[0m     \u001b[38;5;28;01mraise\u001b[39;00m CannotSendHeader()\n\u001b[1;32m-> 1281\u001b[0m \u001b[38;5;28mself\u001b[39m\u001b[38;5;241m.\u001b[39m_send_output(message_body, encode_chunked\u001b[38;5;241m=\u001b[39mencode_chunked)\n",
      "File \u001b[1;32md:\\Anaconda\\Lib\\http\\client.py:1041\u001b[0m, in \u001b[0;36mHTTPConnection._send_output\u001b[1;34m(self, message_body, encode_chunked)\u001b[0m\n\u001b[0;32m   1040\u001b[0m \u001b[38;5;28;01mdel\u001b[39;00m \u001b[38;5;28mself\u001b[39m\u001b[38;5;241m.\u001b[39m_buffer[:]\n\u001b[1;32m-> 1041\u001b[0m \u001b[38;5;28mself\u001b[39m\u001b[38;5;241m.\u001b[39msend(msg)\n\u001b[0;32m   1043\u001b[0m \u001b[38;5;28;01mif\u001b[39;00m message_body \u001b[38;5;129;01mis\u001b[39;00m \u001b[38;5;129;01mnot\u001b[39;00m \u001b[38;5;28;01mNone\u001b[39;00m:\n\u001b[0;32m   1044\u001b[0m \n\u001b[0;32m   1045\u001b[0m     \u001b[38;5;66;03m# create a consistent interface to message_body\u001b[39;00m\n",
      "File \u001b[1;32md:\\Anaconda\\Lib\\http\\client.py:979\u001b[0m, in \u001b[0;36mHTTPConnection.send\u001b[1;34m(self, data)\u001b[0m\n\u001b[0;32m    978\u001b[0m \u001b[38;5;28;01mif\u001b[39;00m \u001b[38;5;28mself\u001b[39m\u001b[38;5;241m.\u001b[39mauto_open:\n\u001b[1;32m--> 979\u001b[0m     \u001b[38;5;28mself\u001b[39m\u001b[38;5;241m.\u001b[39mconnect()\n\u001b[0;32m    980\u001b[0m \u001b[38;5;28;01melse\u001b[39;00m:\n",
      "File \u001b[1;32md:\\Anaconda\\Lib\\site-packages\\urllib3\\connection.py:205\u001b[0m, in \u001b[0;36mHTTPConnection.connect\u001b[1;34m(self)\u001b[0m\n\u001b[0;32m    204\u001b[0m \u001b[38;5;28;01mdef\u001b[39;00m \u001b[38;5;21mconnect\u001b[39m(\u001b[38;5;28mself\u001b[39m):\n\u001b[1;32m--> 205\u001b[0m     conn \u001b[38;5;241m=\u001b[39m \u001b[38;5;28mself\u001b[39m\u001b[38;5;241m.\u001b[39m_new_conn()\n\u001b[0;32m    206\u001b[0m     \u001b[38;5;28mself\u001b[39m\u001b[38;5;241m.\u001b[39m_prepare_conn(conn)\n",
      "File \u001b[1;32md:\\Anaconda\\Lib\\site-packages\\urllib3\\connection.py:186\u001b[0m, in \u001b[0;36mHTTPConnection._new_conn\u001b[1;34m(self)\u001b[0m\n\u001b[0;32m    185\u001b[0m \u001b[38;5;28;01mexcept\u001b[39;00m SocketError \u001b[38;5;28;01mas\u001b[39;00m e:\n\u001b[1;32m--> 186\u001b[0m     \u001b[38;5;28;01mraise\u001b[39;00m NewConnectionError(\n\u001b[0;32m    187\u001b[0m         \u001b[38;5;28mself\u001b[39m, \u001b[38;5;124m\"\u001b[39m\u001b[38;5;124mFailed to establish a new connection: \u001b[39m\u001b[38;5;132;01m%s\u001b[39;00m\u001b[38;5;124m\"\u001b[39m \u001b[38;5;241m%\u001b[39m e\n\u001b[0;32m    188\u001b[0m     )\n\u001b[0;32m    190\u001b[0m \u001b[38;5;28;01mreturn\u001b[39;00m conn\n",
      "\u001b[1;31mNewConnectionError\u001b[0m: <urllib3.connection.HTTPConnection object at 0x00000155C936BF10>: Failed to establish a new connection: [WinError 10061] No connection could be made because the target machine actively refused it",
      "\nDuring handling of the above exception, another exception occurred:\n",
      "\u001b[1;31mMaxRetryError\u001b[0m                             Traceback (most recent call last)",
      "Cell \u001b[1;32mIn[19], line 37\u001b[0m\n\u001b[0;32m     34\u001b[0m     \u001b[38;5;28;01mreturn\u001b[39;00m headers, page_data\n\u001b[0;32m     36\u001b[0m \u001b[38;5;28;01mwhile\u001b[39;00m \u001b[38;5;28;01mTrue\u001b[39;00m:\n\u001b[1;32m---> 37\u001b[0m     headers, page_data \u001b[38;5;241m=\u001b[39m scrape_table()\n\u001b[0;32m     38\u001b[0m     all_data\u001b[38;5;241m.\u001b[39mextend(page_data)\n\u001b[0;32m     39\u001b[0m     \u001b[38;5;28;01mtry\u001b[39;00m:\n",
      "Cell \u001b[1;32mIn[19], line 31\u001b[0m, in \u001b[0;36mscrape_table\u001b[1;34m()\u001b[0m\n\u001b[0;32m     29\u001b[0m page_data \u001b[38;5;241m=\u001b[39m []\n\u001b[0;32m     30\u001b[0m \u001b[38;5;28;01mfor\u001b[39;00m row \u001b[38;5;129;01min\u001b[39;00m rows[\u001b[38;5;241m1\u001b[39m:]:\n\u001b[1;32m---> 31\u001b[0m     cols \u001b[38;5;241m=\u001b[39m [col\u001b[38;5;241m.\u001b[39mtext \u001b[38;5;28;01mfor\u001b[39;00m col \u001b[38;5;129;01min\u001b[39;00m row\u001b[38;5;241m.\u001b[39mfind_elements(By\u001b[38;5;241m.\u001b[39mTAG_NAME, \u001b[38;5;124m'\u001b[39m\u001b[38;5;124mtd\u001b[39m\u001b[38;5;124m'\u001b[39m)]\n\u001b[0;32m     32\u001b[0m     page_data\u001b[38;5;241m.\u001b[39mappend(cols)\n\u001b[0;32m     34\u001b[0m \u001b[38;5;28;01mreturn\u001b[39;00m headers, page_data\n",
      "Cell \u001b[1;32mIn[19], line 31\u001b[0m, in \u001b[0;36m<listcomp>\u001b[1;34m(.0)\u001b[0m\n\u001b[0;32m     29\u001b[0m page_data \u001b[38;5;241m=\u001b[39m []\n\u001b[0;32m     30\u001b[0m \u001b[38;5;28;01mfor\u001b[39;00m row \u001b[38;5;129;01min\u001b[39;00m rows[\u001b[38;5;241m1\u001b[39m:]:\n\u001b[1;32m---> 31\u001b[0m     cols \u001b[38;5;241m=\u001b[39m [col\u001b[38;5;241m.\u001b[39mtext \u001b[38;5;28;01mfor\u001b[39;00m col \u001b[38;5;129;01min\u001b[39;00m row\u001b[38;5;241m.\u001b[39mfind_elements(By\u001b[38;5;241m.\u001b[39mTAG_NAME, \u001b[38;5;124m'\u001b[39m\u001b[38;5;124mtd\u001b[39m\u001b[38;5;124m'\u001b[39m)]\n\u001b[0;32m     32\u001b[0m     page_data\u001b[38;5;241m.\u001b[39mappend(cols)\n\u001b[0;32m     34\u001b[0m \u001b[38;5;28;01mreturn\u001b[39;00m headers, page_data\n",
      "File \u001b[1;32md:\\Anaconda\\Lib\\site-packages\\selenium\\webdriver\\remote\\webelement.py:90\u001b[0m, in \u001b[0;36mWebElement.text\u001b[1;34m(self)\u001b[0m\n\u001b[0;32m     87\u001b[0m \u001b[38;5;129m@property\u001b[39m\n\u001b[0;32m     88\u001b[0m \u001b[38;5;28;01mdef\u001b[39;00m \u001b[38;5;21mtext\u001b[39m(\u001b[38;5;28mself\u001b[39m) \u001b[38;5;241m-\u001b[39m\u001b[38;5;241m>\u001b[39m \u001b[38;5;28mstr\u001b[39m:\n\u001b[0;32m     89\u001b[0m \u001b[38;5;250m    \u001b[39m\u001b[38;5;124;03m\"\"\"The text of the element.\"\"\"\u001b[39;00m\n\u001b[1;32m---> 90\u001b[0m     \u001b[38;5;28;01mreturn\u001b[39;00m \u001b[38;5;28mself\u001b[39m\u001b[38;5;241m.\u001b[39m_execute(Command\u001b[38;5;241m.\u001b[39mGET_ELEMENT_TEXT)[\u001b[38;5;124m\"\u001b[39m\u001b[38;5;124mvalue\u001b[39m\u001b[38;5;124m\"\u001b[39m]\n",
      "File \u001b[1;32md:\\Anaconda\\Lib\\site-packages\\selenium\\webdriver\\remote\\webelement.py:395\u001b[0m, in \u001b[0;36mWebElement._execute\u001b[1;34m(self, command, params)\u001b[0m\n\u001b[0;32m    393\u001b[0m     params \u001b[38;5;241m=\u001b[39m {}\n\u001b[0;32m    394\u001b[0m params[\u001b[38;5;124m\"\u001b[39m\u001b[38;5;124mid\u001b[39m\u001b[38;5;124m\"\u001b[39m] \u001b[38;5;241m=\u001b[39m \u001b[38;5;28mself\u001b[39m\u001b[38;5;241m.\u001b[39m_id\n\u001b[1;32m--> 395\u001b[0m \u001b[38;5;28;01mreturn\u001b[39;00m \u001b[38;5;28mself\u001b[39m\u001b[38;5;241m.\u001b[39m_parent\u001b[38;5;241m.\u001b[39mexecute(command, params)\n",
      "File \u001b[1;32md:\\Anaconda\\Lib\\site-packages\\selenium\\webdriver\\remote\\webdriver.py:352\u001b[0m, in \u001b[0;36mWebDriver.execute\u001b[1;34m(self, driver_command, params)\u001b[0m\n\u001b[0;32m    349\u001b[0m     \u001b[38;5;28;01melif\u001b[39;00m \u001b[38;5;124m\"\u001b[39m\u001b[38;5;124msessionId\u001b[39m\u001b[38;5;124m\"\u001b[39m \u001b[38;5;129;01mnot\u001b[39;00m \u001b[38;5;129;01min\u001b[39;00m params:\n\u001b[0;32m    350\u001b[0m         params[\u001b[38;5;124m\"\u001b[39m\u001b[38;5;124msessionId\u001b[39m\u001b[38;5;124m\"\u001b[39m] \u001b[38;5;241m=\u001b[39m \u001b[38;5;28mself\u001b[39m\u001b[38;5;241m.\u001b[39msession_id\n\u001b[1;32m--> 352\u001b[0m response \u001b[38;5;241m=\u001b[39m \u001b[38;5;28mself\u001b[39m\u001b[38;5;241m.\u001b[39mcommand_executor\u001b[38;5;241m.\u001b[39mexecute(driver_command, params)\n\u001b[0;32m    353\u001b[0m \u001b[38;5;28;01mif\u001b[39;00m response:\n\u001b[0;32m    354\u001b[0m     \u001b[38;5;28mself\u001b[39m\u001b[38;5;241m.\u001b[39merror_handler\u001b[38;5;241m.\u001b[39mcheck_response(response)\n",
      "File \u001b[1;32md:\\Anaconda\\Lib\\site-packages\\selenium\\webdriver\\remote\\remote_connection.py:306\u001b[0m, in \u001b[0;36mRemoteConnection.execute\u001b[1;34m(self, command, params)\u001b[0m\n\u001b[0;32m    304\u001b[0m trimmed \u001b[38;5;241m=\u001b[39m \u001b[38;5;28mself\u001b[39m\u001b[38;5;241m.\u001b[39m_trim_large_entries(params)\n\u001b[0;32m    305\u001b[0m LOGGER\u001b[38;5;241m.\u001b[39mdebug(\u001b[38;5;124m\"\u001b[39m\u001b[38;5;132;01m%s\u001b[39;00m\u001b[38;5;124m \u001b[39m\u001b[38;5;132;01m%s\u001b[39;00m\u001b[38;5;124m \u001b[39m\u001b[38;5;132;01m%s\u001b[39;00m\u001b[38;5;124m\"\u001b[39m, command_info[\u001b[38;5;241m0\u001b[39m], url, \u001b[38;5;28mstr\u001b[39m(trimmed))\n\u001b[1;32m--> 306\u001b[0m \u001b[38;5;28;01mreturn\u001b[39;00m \u001b[38;5;28mself\u001b[39m\u001b[38;5;241m.\u001b[39m_request(command_info[\u001b[38;5;241m0\u001b[39m], url, body\u001b[38;5;241m=\u001b[39mdata)\n",
      "File \u001b[1;32md:\\Anaconda\\Lib\\site-packages\\selenium\\webdriver\\remote\\remote_connection.py:326\u001b[0m, in \u001b[0;36mRemoteConnection._request\u001b[1;34m(self, method, url, body)\u001b[0m\n\u001b[0;32m    323\u001b[0m     body \u001b[38;5;241m=\u001b[39m \u001b[38;5;28;01mNone\u001b[39;00m\n\u001b[0;32m    325\u001b[0m \u001b[38;5;28;01mif\u001b[39;00m \u001b[38;5;28mself\u001b[39m\u001b[38;5;241m.\u001b[39mkeep_alive:\n\u001b[1;32m--> 326\u001b[0m     response \u001b[38;5;241m=\u001b[39m \u001b[38;5;28mself\u001b[39m\u001b[38;5;241m.\u001b[39m_conn\u001b[38;5;241m.\u001b[39mrequest(method, url, body\u001b[38;5;241m=\u001b[39mbody, headers\u001b[38;5;241m=\u001b[39mheaders)\n\u001b[0;32m    327\u001b[0m     statuscode \u001b[38;5;241m=\u001b[39m response\u001b[38;5;241m.\u001b[39mstatus\n\u001b[0;32m    328\u001b[0m \u001b[38;5;28;01melse\u001b[39;00m:\n",
      "File \u001b[1;32md:\\Anaconda\\Lib\\site-packages\\urllib3\\request.py:74\u001b[0m, in \u001b[0;36mRequestMethods.request\u001b[1;34m(self, method, url, fields, headers, **urlopen_kw)\u001b[0m\n\u001b[0;32m     71\u001b[0m urlopen_kw[\u001b[38;5;124m\"\u001b[39m\u001b[38;5;124mrequest_url\u001b[39m\u001b[38;5;124m\"\u001b[39m] \u001b[38;5;241m=\u001b[39m url\n\u001b[0;32m     73\u001b[0m \u001b[38;5;28;01mif\u001b[39;00m method \u001b[38;5;129;01min\u001b[39;00m \u001b[38;5;28mself\u001b[39m\u001b[38;5;241m.\u001b[39m_encode_url_methods:\n\u001b[1;32m---> 74\u001b[0m     \u001b[38;5;28;01mreturn\u001b[39;00m \u001b[38;5;28mself\u001b[39m\u001b[38;5;241m.\u001b[39mrequest_encode_url(\n\u001b[0;32m     75\u001b[0m         method, url, fields\u001b[38;5;241m=\u001b[39mfields, headers\u001b[38;5;241m=\u001b[39mheaders, \u001b[38;5;241m*\u001b[39m\u001b[38;5;241m*\u001b[39murlopen_kw\n\u001b[0;32m     76\u001b[0m     )\n\u001b[0;32m     77\u001b[0m \u001b[38;5;28;01melse\u001b[39;00m:\n\u001b[0;32m     78\u001b[0m     \u001b[38;5;28;01mreturn\u001b[39;00m \u001b[38;5;28mself\u001b[39m\u001b[38;5;241m.\u001b[39mrequest_encode_body(\n\u001b[0;32m     79\u001b[0m         method, url, fields\u001b[38;5;241m=\u001b[39mfields, headers\u001b[38;5;241m=\u001b[39mheaders, \u001b[38;5;241m*\u001b[39m\u001b[38;5;241m*\u001b[39murlopen_kw\n\u001b[0;32m     80\u001b[0m     )\n",
      "File \u001b[1;32md:\\Anaconda\\Lib\\site-packages\\urllib3\\request.py:96\u001b[0m, in \u001b[0;36mRequestMethods.request_encode_url\u001b[1;34m(self, method, url, fields, headers, **urlopen_kw)\u001b[0m\n\u001b[0;32m     93\u001b[0m \u001b[38;5;28;01mif\u001b[39;00m fields:\n\u001b[0;32m     94\u001b[0m     url \u001b[38;5;241m+\u001b[39m\u001b[38;5;241m=\u001b[39m \u001b[38;5;124m\"\u001b[39m\u001b[38;5;124m?\u001b[39m\u001b[38;5;124m\"\u001b[39m \u001b[38;5;241m+\u001b[39m urlencode(fields)\n\u001b[1;32m---> 96\u001b[0m \u001b[38;5;28;01mreturn\u001b[39;00m \u001b[38;5;28mself\u001b[39m\u001b[38;5;241m.\u001b[39murlopen(method, url, \u001b[38;5;241m*\u001b[39m\u001b[38;5;241m*\u001b[39mextra_kw)\n",
      "File \u001b[1;32md:\\Anaconda\\Lib\\site-packages\\urllib3\\poolmanager.py:376\u001b[0m, in \u001b[0;36mPoolManager.urlopen\u001b[1;34m(self, method, url, redirect, **kw)\u001b[0m\n\u001b[0;32m    374\u001b[0m     response \u001b[38;5;241m=\u001b[39m conn\u001b[38;5;241m.\u001b[39murlopen(method, url, \u001b[38;5;241m*\u001b[39m\u001b[38;5;241m*\u001b[39mkw)\n\u001b[0;32m    375\u001b[0m \u001b[38;5;28;01melse\u001b[39;00m:\n\u001b[1;32m--> 376\u001b[0m     response \u001b[38;5;241m=\u001b[39m conn\u001b[38;5;241m.\u001b[39murlopen(method, u\u001b[38;5;241m.\u001b[39mrequest_uri, \u001b[38;5;241m*\u001b[39m\u001b[38;5;241m*\u001b[39mkw)\n\u001b[0;32m    378\u001b[0m redirect_location \u001b[38;5;241m=\u001b[39m redirect \u001b[38;5;129;01mand\u001b[39;00m response\u001b[38;5;241m.\u001b[39mget_redirect_location()\n\u001b[0;32m    379\u001b[0m \u001b[38;5;28;01mif\u001b[39;00m \u001b[38;5;129;01mnot\u001b[39;00m redirect_location:\n",
      "File \u001b[1;32md:\\Anaconda\\Lib\\site-packages\\urllib3\\connectionpool.py:826\u001b[0m, in \u001b[0;36mHTTPConnectionPool.urlopen\u001b[1;34m(self, method, url, body, headers, retries, redirect, assert_same_host, timeout, pool_timeout, release_conn, chunked, body_pos, **response_kw)\u001b[0m\n\u001b[0;32m    821\u001b[0m \u001b[38;5;28;01mif\u001b[39;00m \u001b[38;5;129;01mnot\u001b[39;00m conn:\n\u001b[0;32m    822\u001b[0m     \u001b[38;5;66;03m# Try again\u001b[39;00m\n\u001b[0;32m    823\u001b[0m     log\u001b[38;5;241m.\u001b[39mwarning(\n\u001b[0;32m    824\u001b[0m         \u001b[38;5;124m\"\u001b[39m\u001b[38;5;124mRetrying (\u001b[39m\u001b[38;5;132;01m%r\u001b[39;00m\u001b[38;5;124m) after connection broken by \u001b[39m\u001b[38;5;124m'\u001b[39m\u001b[38;5;132;01m%r\u001b[39;00m\u001b[38;5;124m'\u001b[39m\u001b[38;5;124m: \u001b[39m\u001b[38;5;132;01m%s\u001b[39;00m\u001b[38;5;124m\"\u001b[39m, retries, err, url\n\u001b[0;32m    825\u001b[0m     )\n\u001b[1;32m--> 826\u001b[0m     \u001b[38;5;28;01mreturn\u001b[39;00m \u001b[38;5;28mself\u001b[39m\u001b[38;5;241m.\u001b[39murlopen(\n\u001b[0;32m    827\u001b[0m         method,\n\u001b[0;32m    828\u001b[0m         url,\n\u001b[0;32m    829\u001b[0m         body,\n\u001b[0;32m    830\u001b[0m         headers,\n\u001b[0;32m    831\u001b[0m         retries,\n\u001b[0;32m    832\u001b[0m         redirect,\n\u001b[0;32m    833\u001b[0m         assert_same_host,\n\u001b[0;32m    834\u001b[0m         timeout\u001b[38;5;241m=\u001b[39mtimeout,\n\u001b[0;32m    835\u001b[0m         pool_timeout\u001b[38;5;241m=\u001b[39mpool_timeout,\n\u001b[0;32m    836\u001b[0m         release_conn\u001b[38;5;241m=\u001b[39mrelease_conn,\n\u001b[0;32m    837\u001b[0m         chunked\u001b[38;5;241m=\u001b[39mchunked,\n\u001b[0;32m    838\u001b[0m         body_pos\u001b[38;5;241m=\u001b[39mbody_pos,\n\u001b[0;32m    839\u001b[0m         \u001b[38;5;241m*\u001b[39m\u001b[38;5;241m*\u001b[39mresponse_kw\n\u001b[0;32m    840\u001b[0m     )\n\u001b[0;32m    842\u001b[0m \u001b[38;5;66;03m# Handle redirect?\u001b[39;00m\n\u001b[0;32m    843\u001b[0m redirect_location \u001b[38;5;241m=\u001b[39m redirect \u001b[38;5;129;01mand\u001b[39;00m response\u001b[38;5;241m.\u001b[39mget_redirect_location()\n",
      "File \u001b[1;32md:\\Anaconda\\Lib\\site-packages\\urllib3\\connectionpool.py:826\u001b[0m, in \u001b[0;36mHTTPConnectionPool.urlopen\u001b[1;34m(self, method, url, body, headers, retries, redirect, assert_same_host, timeout, pool_timeout, release_conn, chunked, body_pos, **response_kw)\u001b[0m\n\u001b[0;32m    821\u001b[0m \u001b[38;5;28;01mif\u001b[39;00m \u001b[38;5;129;01mnot\u001b[39;00m conn:\n\u001b[0;32m    822\u001b[0m     \u001b[38;5;66;03m# Try again\u001b[39;00m\n\u001b[0;32m    823\u001b[0m     log\u001b[38;5;241m.\u001b[39mwarning(\n\u001b[0;32m    824\u001b[0m         \u001b[38;5;124m\"\u001b[39m\u001b[38;5;124mRetrying (\u001b[39m\u001b[38;5;132;01m%r\u001b[39;00m\u001b[38;5;124m) after connection broken by \u001b[39m\u001b[38;5;124m'\u001b[39m\u001b[38;5;132;01m%r\u001b[39;00m\u001b[38;5;124m'\u001b[39m\u001b[38;5;124m: \u001b[39m\u001b[38;5;132;01m%s\u001b[39;00m\u001b[38;5;124m\"\u001b[39m, retries, err, url\n\u001b[0;32m    825\u001b[0m     )\n\u001b[1;32m--> 826\u001b[0m     \u001b[38;5;28;01mreturn\u001b[39;00m \u001b[38;5;28mself\u001b[39m\u001b[38;5;241m.\u001b[39murlopen(\n\u001b[0;32m    827\u001b[0m         method,\n\u001b[0;32m    828\u001b[0m         url,\n\u001b[0;32m    829\u001b[0m         body,\n\u001b[0;32m    830\u001b[0m         headers,\n\u001b[0;32m    831\u001b[0m         retries,\n\u001b[0;32m    832\u001b[0m         redirect,\n\u001b[0;32m    833\u001b[0m         assert_same_host,\n\u001b[0;32m    834\u001b[0m         timeout\u001b[38;5;241m=\u001b[39mtimeout,\n\u001b[0;32m    835\u001b[0m         pool_timeout\u001b[38;5;241m=\u001b[39mpool_timeout,\n\u001b[0;32m    836\u001b[0m         release_conn\u001b[38;5;241m=\u001b[39mrelease_conn,\n\u001b[0;32m    837\u001b[0m         chunked\u001b[38;5;241m=\u001b[39mchunked,\n\u001b[0;32m    838\u001b[0m         body_pos\u001b[38;5;241m=\u001b[39mbody_pos,\n\u001b[0;32m    839\u001b[0m         \u001b[38;5;241m*\u001b[39m\u001b[38;5;241m*\u001b[39mresponse_kw\n\u001b[0;32m    840\u001b[0m     )\n\u001b[0;32m    842\u001b[0m \u001b[38;5;66;03m# Handle redirect?\u001b[39;00m\n\u001b[0;32m    843\u001b[0m redirect_location \u001b[38;5;241m=\u001b[39m redirect \u001b[38;5;129;01mand\u001b[39;00m response\u001b[38;5;241m.\u001b[39mget_redirect_location()\n",
      "File \u001b[1;32md:\\Anaconda\\Lib\\site-packages\\urllib3\\connectionpool.py:826\u001b[0m, in \u001b[0;36mHTTPConnectionPool.urlopen\u001b[1;34m(self, method, url, body, headers, retries, redirect, assert_same_host, timeout, pool_timeout, release_conn, chunked, body_pos, **response_kw)\u001b[0m\n\u001b[0;32m    821\u001b[0m \u001b[38;5;28;01mif\u001b[39;00m \u001b[38;5;129;01mnot\u001b[39;00m conn:\n\u001b[0;32m    822\u001b[0m     \u001b[38;5;66;03m# Try again\u001b[39;00m\n\u001b[0;32m    823\u001b[0m     log\u001b[38;5;241m.\u001b[39mwarning(\n\u001b[0;32m    824\u001b[0m         \u001b[38;5;124m\"\u001b[39m\u001b[38;5;124mRetrying (\u001b[39m\u001b[38;5;132;01m%r\u001b[39;00m\u001b[38;5;124m) after connection broken by \u001b[39m\u001b[38;5;124m'\u001b[39m\u001b[38;5;132;01m%r\u001b[39;00m\u001b[38;5;124m'\u001b[39m\u001b[38;5;124m: \u001b[39m\u001b[38;5;132;01m%s\u001b[39;00m\u001b[38;5;124m\"\u001b[39m, retries, err, url\n\u001b[0;32m    825\u001b[0m     )\n\u001b[1;32m--> 826\u001b[0m     \u001b[38;5;28;01mreturn\u001b[39;00m \u001b[38;5;28mself\u001b[39m\u001b[38;5;241m.\u001b[39murlopen(\n\u001b[0;32m    827\u001b[0m         method,\n\u001b[0;32m    828\u001b[0m         url,\n\u001b[0;32m    829\u001b[0m         body,\n\u001b[0;32m    830\u001b[0m         headers,\n\u001b[0;32m    831\u001b[0m         retries,\n\u001b[0;32m    832\u001b[0m         redirect,\n\u001b[0;32m    833\u001b[0m         assert_same_host,\n\u001b[0;32m    834\u001b[0m         timeout\u001b[38;5;241m=\u001b[39mtimeout,\n\u001b[0;32m    835\u001b[0m         pool_timeout\u001b[38;5;241m=\u001b[39mpool_timeout,\n\u001b[0;32m    836\u001b[0m         release_conn\u001b[38;5;241m=\u001b[39mrelease_conn,\n\u001b[0;32m    837\u001b[0m         chunked\u001b[38;5;241m=\u001b[39mchunked,\n\u001b[0;32m    838\u001b[0m         body_pos\u001b[38;5;241m=\u001b[39mbody_pos,\n\u001b[0;32m    839\u001b[0m         \u001b[38;5;241m*\u001b[39m\u001b[38;5;241m*\u001b[39mresponse_kw\n\u001b[0;32m    840\u001b[0m     )\n\u001b[0;32m    842\u001b[0m \u001b[38;5;66;03m# Handle redirect?\u001b[39;00m\n\u001b[0;32m    843\u001b[0m redirect_location \u001b[38;5;241m=\u001b[39m redirect \u001b[38;5;129;01mand\u001b[39;00m response\u001b[38;5;241m.\u001b[39mget_redirect_location()\n",
      "File \u001b[1;32md:\\Anaconda\\Lib\\site-packages\\urllib3\\connectionpool.py:798\u001b[0m, in \u001b[0;36mHTTPConnectionPool.urlopen\u001b[1;34m(self, method, url, body, headers, retries, redirect, assert_same_host, timeout, pool_timeout, release_conn, chunked, body_pos, **response_kw)\u001b[0m\n\u001b[0;32m    795\u001b[0m \u001b[38;5;28;01melif\u001b[39;00m \u001b[38;5;28misinstance\u001b[39m(e, (SocketError, HTTPException)):\n\u001b[0;32m    796\u001b[0m     e \u001b[38;5;241m=\u001b[39m ProtocolError(\u001b[38;5;124m\"\u001b[39m\u001b[38;5;124mConnection aborted.\u001b[39m\u001b[38;5;124m\"\u001b[39m, e)\n\u001b[1;32m--> 798\u001b[0m retries \u001b[38;5;241m=\u001b[39m retries\u001b[38;5;241m.\u001b[39mincrement(\n\u001b[0;32m    799\u001b[0m     method, url, error\u001b[38;5;241m=\u001b[39me, _pool\u001b[38;5;241m=\u001b[39m\u001b[38;5;28mself\u001b[39m, _stacktrace\u001b[38;5;241m=\u001b[39msys\u001b[38;5;241m.\u001b[39mexc_info()[\u001b[38;5;241m2\u001b[39m]\n\u001b[0;32m    800\u001b[0m )\n\u001b[0;32m    801\u001b[0m retries\u001b[38;5;241m.\u001b[39msleep()\n\u001b[0;32m    803\u001b[0m \u001b[38;5;66;03m# Keep track of the error for the retry warning.\u001b[39;00m\n",
      "File \u001b[1;32md:\\Anaconda\\Lib\\site-packages\\urllib3\\util\\retry.py:592\u001b[0m, in \u001b[0;36mRetry.increment\u001b[1;34m(self, method, url, response, error, _pool, _stacktrace)\u001b[0m\n\u001b[0;32m    581\u001b[0m new_retry \u001b[38;5;241m=\u001b[39m \u001b[38;5;28mself\u001b[39m\u001b[38;5;241m.\u001b[39mnew(\n\u001b[0;32m    582\u001b[0m     total\u001b[38;5;241m=\u001b[39mtotal,\n\u001b[0;32m    583\u001b[0m     connect\u001b[38;5;241m=\u001b[39mconnect,\n\u001b[1;32m   (...)\u001b[0m\n\u001b[0;32m    588\u001b[0m     history\u001b[38;5;241m=\u001b[39mhistory,\n\u001b[0;32m    589\u001b[0m )\n\u001b[0;32m    591\u001b[0m \u001b[38;5;28;01mif\u001b[39;00m new_retry\u001b[38;5;241m.\u001b[39mis_exhausted():\n\u001b[1;32m--> 592\u001b[0m     \u001b[38;5;28;01mraise\u001b[39;00m MaxRetryError(_pool, url, error \u001b[38;5;129;01mor\u001b[39;00m ResponseError(cause))\n\u001b[0;32m    594\u001b[0m log\u001b[38;5;241m.\u001b[39mdebug(\u001b[38;5;124m\"\u001b[39m\u001b[38;5;124mIncremented Retry for (url=\u001b[39m\u001b[38;5;124m'\u001b[39m\u001b[38;5;132;01m%s\u001b[39;00m\u001b[38;5;124m'\u001b[39m\u001b[38;5;124m): \u001b[39m\u001b[38;5;132;01m%r\u001b[39;00m\u001b[38;5;124m\"\u001b[39m, url, new_retry)\n\u001b[0;32m    596\u001b[0m \u001b[38;5;28;01mreturn\u001b[39;00m new_retry\n",
      "\u001b[1;31mMaxRetryError\u001b[0m: HTTPConnectionPool(host='localhost', port=51997): Max retries exceeded with url: /session/48e8694ca2a7f39c1a53470fd7cd8045/element/f.E102CB4B01DAEFBD957B7A7097E5A9FD.d.3F7529A90645FB8AC3997982D0192F85.e.9589/text (Caused by NewConnectionError('<urllib3.connection.HTTPConnection object at 0x00000155C936BF10>: Failed to establish a new connection: [WinError 10061] No connection could be made because the target machine actively refused it'))"
     ]
    }
   ],
   "source": [
    "infant_url = r\"https://data.un.org/Data.aspx?q=infant&d=PopDiv&f=variableID%3a77\"\n",
    "driver.get(infant_url)\n",
    "\n",
    "wait = WebDriverWait(driver, 10)\n",
    "wait.until(EC.presence_of_element_located((By.CSS_SELECTOR, 'div.DataContainer')))\n",
    "checkboxes = driver.find_elements(By.CSS_SELECTOR, \"input[type='checkbox'][value]\")\n",
    "\n",
    "for checkbox in checkboxes:\n",
    "    try:\n",
    "        year = int(checkbox.get_attribute('name'))\n",
    "    except ValueError as e:\n",
    "        continue\n",
    "    if year <= 2024:\n",
    "        if not checkbox.is_selected():\n",
    "            driver.execute_script(\"arguments[0].scrollIntoView(true);\", checkbox)\n",
    "            time.sleep(1)\n",
    "            checkbox.click()\n",
    "\n",
    "\n",
    "apply_filters_link = driver.find_element(By.ID, \"ctl00_main_filters_anchorApplyBottom\")\n",
    "apply_filters_link.click()\n",
    "\n",
    "time.sleep(5) \n",
    "all_data = []\n",
    "def scrape_table():\n",
    "    data_container = driver.find_element(By.CSS_SELECTOR, 'div.DataContainer')\n",
    "    headers = [header.text for header in data_container.find_elements(By.TAG_NAME, 'th')]\n",
    "    rows = data_container.find_elements(By.TAG_NAME, 'tr')\n",
    "    page_data = []\n",
    "    for row in rows[1:]:\n",
    "        cols = [col.text for col in row.find_elements(By.TAG_NAME, 'td')]\n",
    "        page_data.append(cols)\n",
    "    \n",
    "    return headers, page_data\n",
    "\n",
    "while True:\n",
    "    headers, page_data = scrape_table()\n",
    "    all_data.extend(page_data)\n",
    "    try:\n",
    "        next_button = driver.find_element(By.ID, \"linkNextB\")\n",
    "        if 'disabled' in next_button.get_attribute('class'):\n",
    "            break\n",
    "        next_button.click()\n",
    "        time.sleep(5)\n",
    "    except Exception as e:\n",
    "        print(f\"Reached the last page or encountered an error: {e}\")\n",
    "        break\n",
    "\n",
    "df = pd.DataFrame(all_data, columns=headers)\n",
    "print(df)\n",
    "df.to_csv(\"Data\\\\Infant Mortality.csv\", index=False)\n",
    "driver.quit()\n"
   ]
  }
 ],
 "metadata": {
  "kernelspec": {
   "display_name": "Python 3",
   "language": "python",
   "name": "python3"
  },
  "language_info": {
   "codemirror_mode": {
    "name": "ipython",
    "version": 3
   },
   "file_extension": ".py",
   "mimetype": "text/x-python",
   "name": "python",
   "nbconvert_exporter": "python",
   "pygments_lexer": "ipython3",
   "version": "3.11.5"
  }
 },
 "nbformat": 4,
 "nbformat_minor": 2
}
